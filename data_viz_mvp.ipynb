{
  "nbformat": 4,
  "nbformat_minor": 0,
  "metadata": {
    "colab": {
      "provenance": [],
      "authorship_tag": "ABX9TyOJCiiqMBJOxEz4wtj5xVmV",
      "include_colab_link": true
    },
    "kernelspec": {
      "name": "python3",
      "display_name": "Python 3"
    },
    "language_info": {
      "name": "python"
    }
  },
  "cells": [
    {
      "cell_type": "markdown",
      "metadata": {
        "id": "view-in-github",
        "colab_type": "text"
      },
      "source": [
        "<a href=\"https://colab.research.google.com/github/TomasValadao/DataVisualization-PUC-Rio/blob/main/data_viz_mvp.ipynb\" target=\"_parent\"><img src=\"https://colab.research.google.com/assets/colab-badge.svg\" alt=\"Open In Colab\"/></a>"
      ]
    },
    {
      "cell_type": "markdown",
      "source": [
        "# MVP: Análise de Dados e Boas Práticas\n",
        "## Tomás Cavalcante Valadão"
      ],
      "metadata": {
        "id": "RGYBj_dp5tq8"
      }
    },
    {
      "cell_type": "markdown",
      "source": [
        "# 1. Definição do Problema"
      ],
      "metadata": {
        "id": "0maf4Ei059-0"
      }
    },
    {
      "cell_type": "code",
      "execution_count": null,
      "metadata": {
        "id": "dJS-wzNy5kgM"
      },
      "outputs": [],
      "source": [
        "# importando as bibliotecas\n",
        "import pandas as pd\n",
        "import numpy as np\n",
        "from matplotlib import pyplot as plt\n",
        "from plotnine import ggplot, aes, geom_line, geom_point, xlim, ylim, geom_jitter, geom_abline, theme_set, theme_bw, geom_histogram, geom_bar, ylab"
      ]
    },
    {
      "cell_type": "markdown",
      "source": [
        "# 2. Análise inicial dos dados"
      ],
      "metadata": {
        "id": "PTK4iOmy6Gol"
      }
    },
    {
      "cell_type": "markdown",
      "source": [
        "# 3. Pré-processamento de Dados"
      ],
      "metadata": {
        "id": "ITfi1n2U6OXN"
      }
    },
    {
      "cell_type": "markdown",
      "source": [
        "# 4. Análise dos Dados"
      ],
      "metadata": {
        "id": "IM2Jtj8N6fe-"
      }
    },
    {
      "cell_type": "markdown",
      "source": [
        "# 5. Conclusão"
      ],
      "metadata": {
        "id": "cVOwTRN46kgC"
      }
    },
    {
      "cell_type": "markdown",
      "source": [
        "# 6. Referências\n",
        "[Kaggle - Netflix TV Shows](https://www.kaggle.com/datasets/victorsoeiro/netflix-tv-shows-and-movies)\n"
      ],
      "metadata": {
        "id": "xsC-oNIA6m8R"
      }
    }
  ]
}